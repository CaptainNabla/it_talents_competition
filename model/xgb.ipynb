{
 "nbformat": 4,
 "nbformat_minor": 2,
 "metadata": {
  "language_info": {
   "name": "python",
   "codemirror_mode": {
    "name": "ipython",
    "version": 3
   },
   "version": "3.6.9"
  },
  "orig_nbformat": 2,
  "file_extension": ".py",
  "mimetype": "text/x-python",
  "name": "python",
  "npconvert_exporter": "python",
  "pygments_lexer": "ipython3",
  "version": 3
 },
 "cells": [
  {
   "cell_type": "markdown",
   "execution_count": null,
   "metadata": {},
   "outputs": [],
   "source": [
    "# Predicting the winner of Races with XGBoost\n",
    "\n",
    "## 1. Introduction\n",
    "XGBoost is an open-source software library for predictive modelling, created by Tianqi Chen in 2014. The name XGBoost stands for \"Extreme Gradient Boosting\" and implements ”Gradient Boosting” as proposed in Greedy Function Approximation: A Gradient Boosting Machine by Friedman, while the term ”Extreme” refers to the engineering goal to maximize the resources used by the algorithm to achieve high accuracy, computational efficiency and scalability. What started off as a terminal application for a research project, has become a scalable end-to-end tree boosting system that has integrations with scikit-learn in Python, the caret package in R, as well as big data frameworks like Apache Spark and Hadoop. Since its introduction, XGBoost has been used in more than half of the winning solutions in Kaggle competitions, after it gained much popularity and attention in the community by winning the Higgs boson machine learning challenge."
   ]
  },
  {
   "cell_type": "markdown",
   "execution_count": null,
   "metadata": {},
   "outputs": [],
   "source": [
    "Tree based algorithms are widely used in supervised machine learning. XGBoost is an implementation of gradient boosting, representing a new generation of GBM algorithms with tweaks to the traditional tree boosting and major system improvements. It has developed to the go-to algorithm for many machine learning engineers and practitioners in the data science community.\n",
    "\n",
    "Let's see how well XGBoost performs on the given race game data set."
   ]
  },
  {
   "cell_type": "code",
   "execution_count": 1,
   "metadata": {},
   "outputs": [
    {
     "data": {
      "text/html": "<div>\n<style scoped>\n    .dataframe tbody tr th:only-of-type {\n        vertical-align: middle;\n    }\n\n    .dataframe tbody tr th {\n        vertical-align: top;\n    }\n\n    .dataframe thead th {\n        text-align: right;\n    }\n</style>\n<table border=\"1\" class=\"dataframe\">\n  <thead>\n    <tr style=\"text-align: right;\">\n      <th></th>\n      <th>id</th>\n      <th>race_created</th>\n      <th>race_driven</th>\n      <th>track_id</th>\n      <th>challenger</th>\n      <th>opponent</th>\n      <th>money</th>\n      <th>fuel_consumption</th>\n      <th>winner</th>\n      <th>status</th>\n      <th>forecast</th>\n      <th>weather</th>\n    </tr>\n  </thead>\n  <tbody>\n    <tr>\n      <th>0</th>\n      <td>1</td>\n      <td>2012-03-06</td>\n      <td>2012-03-06 00:00:00</td>\n      <td>12</td>\n      <td>5</td>\n      <td>2</td>\n      <td>30</td>\n      <td>0.63</td>\n      <td>5</td>\n      <td>finished</td>\n      <td>a:4:{s:5:\"sunny\";i:10;s:5:\"rainy\";i:70;s:8:\"th...</td>\n      <td>rainy</td>\n    </tr>\n    <tr>\n      <th>1</th>\n      <td>2</td>\n      <td>2012-03-06</td>\n      <td>2012-03-06 00:03:00</td>\n      <td>12</td>\n      <td>5</td>\n      <td>4</td>\n      <td>30</td>\n      <td>0.63</td>\n      <td>4</td>\n      <td>finished</td>\n      <td>a:4:{s:5:\"sunny\";i:70;s:5:\"rainy\";i:15;s:8:\"th...</td>\n      <td>sunny</td>\n    </tr>\n    <tr>\n      <th>3</th>\n      <td>4</td>\n      <td>2012-03-06</td>\n      <td>2012-03-06 00:06:00</td>\n      <td>12</td>\n      <td>5</td>\n      <td>4</td>\n      <td>30</td>\n      <td>0.63</td>\n      <td>5</td>\n      <td>finished</td>\n      <td>a:4:{s:5:\"sunny\";i:25;s:5:\"rainy\";i:75;s:8:\"th...</td>\n      <td>sunny</td>\n    </tr>\n    <tr>\n      <th>5</th>\n      <td>6</td>\n      <td>2012-03-06</td>\n      <td>2012-03-06 00:17:00</td>\n      <td>12</td>\n      <td>5</td>\n      <td>10</td>\n      <td>100</td>\n      <td>0.63</td>\n      <td>5</td>\n      <td>finished</td>\n      <td>a:4:{s:5:\"sunny\";i:30;s:5:\"rainy\";i:20;s:8:\"th...</td>\n      <td>snowy</td>\n    </tr>\n    <tr>\n      <th>8</th>\n      <td>9</td>\n      <td>2012-03-06</td>\n      <td>2012-03-06 00:08:00</td>\n      <td>3</td>\n      <td>10</td>\n      <td>4</td>\n      <td>30</td>\n      <td>0.63</td>\n      <td>4</td>\n      <td>finished</td>\n      <td>a:4:{s:5:\"sunny\";i:45;s:5:\"rainy\";i:40;s:8:\"th...</td>\n      <td>sunny</td>\n    </tr>\n  </tbody>\n</table>\n</div>",
      "text/plain": "   id race_created         race_driven  track_id  challenger  opponent  money  \\\n0   1   2012-03-06 2012-03-06 00:00:00        12           5         2     30   \n1   2   2012-03-06 2012-03-06 00:03:00        12           5         4     30   \n3   4   2012-03-06 2012-03-06 00:06:00        12           5         4     30   \n5   6   2012-03-06 2012-03-06 00:17:00        12           5        10    100   \n8   9   2012-03-06 2012-03-06 00:08:00         3          10         4     30   \n\n   fuel_consumption  winner    status  \\\n0              0.63       5  finished   \n1              0.63       4  finished   \n3              0.63       5  finished   \n5              0.63       5  finished   \n8              0.63       4  finished   \n\n                                            forecast weather  \n0  a:4:{s:5:\"sunny\";i:10;s:5:\"rainy\";i:70;s:8:\"th...   rainy  \n1  a:4:{s:5:\"sunny\";i:70;s:5:\"rainy\";i:15;s:8:\"th...   sunny  \n3  a:4:{s:5:\"sunny\";i:25;s:5:\"rainy\";i:75;s:8:\"th...   sunny  \n5  a:4:{s:5:\"sunny\";i:30;s:5:\"rainy\";i:20;s:8:\"th...   snowy  \n8  a:4:{s:5:\"sunny\";i:45;s:5:\"rainy\";i:40;s:8:\"th...   sunny  "
     },
     "execution_count": 1,
     "metadata": {},
     "output_type": "execute_result"
    }
   ],
   "source": [
    "import pandas as pd\n",
    "import numpy as np\n",
    "\n",
    "from data.transformation import compute_elo, extract_player_info\n",
    "from datetime import datetime, timedelta\n",
    "\n",
    "races = pd.read_csv(\"data/cleaned_data/races_cleaned.csv\")\n",
    "races.dropna(inplace=True)\n",
    "races['race_driven'] = races['race_driven'].astype(\"datetime64\")\n",
    "races.head()"
   ]
  },
  {
   "cell_type": "markdown",
   "execution_count": null,
   "metadata": {},
   "outputs": [],
   "source": [
    "## 2. Feature Engineering\n",
    "Adding ELO as essential feature to our data. We will only consider the ELO (estimate of player strength) of the previous day."
   ]
  },
  {
   "cell_type": "code",
   "execution_count": 2,
   "metadata": {},
   "outputs": [
    {
     "data": {
      "text/html": "<div>\n<style scoped>\n    .dataframe tbody tr th:only-of-type {\n        vertical-align: middle;\n    }\n\n    .dataframe tbody tr th {\n        vertical-align: top;\n    }\n\n    .dataframe thead th {\n        text-align: right;\n    }\n</style>\n<table border=\"1\" class=\"dataframe\">\n  <thead>\n    <tr style=\"text-align: right;\">\n      <th></th>\n      <th>date</th>\n      <th>player_0</th>\n      <th>player_1</th>\n      <th>player_2</th>\n      <th>player_3</th>\n      <th>player_4</th>\n      <th>player_5</th>\n      <th>player_6</th>\n      <th>player_7</th>\n      <th>player_8</th>\n      <th>...</th>\n      <th>player_14635</th>\n      <th>player_14638</th>\n      <th>player_14639</th>\n      <th>player_14641</th>\n      <th>player_14644</th>\n      <th>player_14652</th>\n      <th>player_14654</th>\n      <th>player_14656</th>\n      <th>player_14664</th>\n      <th>player_14669</th>\n    </tr>\n  </thead>\n  <tbody>\n    <tr>\n      <th>0</th>\n      <td>2012-03-05</td>\n      <td>1500.000000</td>\n      <td>1500.0</td>\n      <td>1500.000000</td>\n      <td>1500.000000</td>\n      <td>1500.000000</td>\n      <td>1500</td>\n      <td>1500.000000</td>\n      <td>1500.000000</td>\n      <td>1500.000000</td>\n      <td>...</td>\n      <td>1500.0</td>\n      <td>1500.0</td>\n      <td>1500.0</td>\n      <td>1500.0</td>\n      <td>1500.0</td>\n      <td>1500.0</td>\n      <td>1500.0</td>\n      <td>1500.0</td>\n      <td>1500.0</td>\n      <td>1500.0</td>\n    </tr>\n    <tr>\n      <th>1</th>\n      <td>2012-03-06</td>\n      <td>1463.529574</td>\n      <td>1495.0</td>\n      <td>1600.190991</td>\n      <td>1453.646091</td>\n      <td>1640.841192</td>\n      <td>1500</td>\n      <td>1500.000000</td>\n      <td>1637.462868</td>\n      <td>1503.095535</td>\n      <td>...</td>\n      <td>1500.0</td>\n      <td>1500.0</td>\n      <td>1500.0</td>\n      <td>1500.0</td>\n      <td>1500.0</td>\n      <td>1500.0</td>\n      <td>1500.0</td>\n      <td>1500.0</td>\n      <td>1500.0</td>\n      <td>1500.0</td>\n    </tr>\n    <tr>\n      <th>2</th>\n      <td>2012-03-07</td>\n      <td>1463.529574</td>\n      <td>1495.0</td>\n      <td>1696.786584</td>\n      <td>1453.646091</td>\n      <td>1644.143286</td>\n      <td>1500</td>\n      <td>1313.140250</td>\n      <td>1730.475883</td>\n      <td>1475.660032</td>\n      <td>...</td>\n      <td>1500.0</td>\n      <td>1500.0</td>\n      <td>1500.0</td>\n      <td>1500.0</td>\n      <td>1500.0</td>\n      <td>1500.0</td>\n      <td>1500.0</td>\n      <td>1500.0</td>\n      <td>1500.0</td>\n      <td>1500.0</td>\n    </tr>\n    <tr>\n      <th>3</th>\n      <td>2012-03-08</td>\n      <td>1459.143171</td>\n      <td>1495.0</td>\n      <td>1755.439164</td>\n      <td>1453.646091</td>\n      <td>1635.076165</td>\n      <td>1500</td>\n      <td>1302.068114</td>\n      <td>1746.221834</td>\n      <td>1452.378189</td>\n      <td>...</td>\n      <td>1500.0</td>\n      <td>1500.0</td>\n      <td>1500.0</td>\n      <td>1500.0</td>\n      <td>1500.0</td>\n      <td>1500.0</td>\n      <td>1500.0</td>\n      <td>1500.0</td>\n      <td>1500.0</td>\n      <td>1500.0</td>\n    </tr>\n    <tr>\n      <th>4</th>\n      <td>2012-03-09</td>\n      <td>1459.143171</td>\n      <td>1495.0</td>\n      <td>1793.493717</td>\n      <td>1453.646091</td>\n      <td>1681.457812</td>\n      <td>1500</td>\n      <td>1244.702118</td>\n      <td>1756.903623</td>\n      <td>1435.426534</td>\n      <td>...</td>\n      <td>1500.0</td>\n      <td>1500.0</td>\n      <td>1500.0</td>\n      <td>1500.0</td>\n      <td>1500.0</td>\n      <td>1500.0</td>\n      <td>1500.0</td>\n      <td>1500.0</td>\n      <td>1500.0</td>\n      <td>1500.0</td>\n    </tr>\n  </tbody>\n</table>\n<p>5 rows × 7095 columns</p>\n</div>",
      "text/plain": "        date     player_0  player_1     player_2     player_3     player_4  \\\n0 2012-03-05  1500.000000    1500.0  1500.000000  1500.000000  1500.000000   \n1 2012-03-06  1463.529574    1495.0  1600.190991  1453.646091  1640.841192   \n2 2012-03-07  1463.529574    1495.0  1696.786584  1453.646091  1644.143286   \n3 2012-03-08  1459.143171    1495.0  1755.439164  1453.646091  1635.076165   \n4 2012-03-09  1459.143171    1495.0  1793.493717  1453.646091  1681.457812   \n\n   player_5     player_6     player_7     player_8      ...       \\\n0      1500  1500.000000  1500.000000  1500.000000      ...        \n1      1500  1500.000000  1637.462868  1503.095535      ...        \n2      1500  1313.140250  1730.475883  1475.660032      ...        \n3      1500  1302.068114  1746.221834  1452.378189      ...        \n4      1500  1244.702118  1756.903623  1435.426534      ...        \n\n   player_14635  player_14638  player_14639  player_14641  player_14644  \\\n0        1500.0        1500.0        1500.0        1500.0        1500.0   \n1        1500.0        1500.0        1500.0        1500.0        1500.0   \n2        1500.0        1500.0        1500.0        1500.0        1500.0   \n3        1500.0        1500.0        1500.0        1500.0        1500.0   \n4        1500.0        1500.0        1500.0        1500.0        1500.0   \n\n   player_14652  player_14654  player_14656  player_14664  player_14669  \n0        1500.0        1500.0        1500.0        1500.0        1500.0  \n1        1500.0        1500.0        1500.0        1500.0        1500.0  \n2        1500.0        1500.0        1500.0        1500.0        1500.0  \n3        1500.0        1500.0        1500.0        1500.0        1500.0  \n4        1500.0        1500.0        1500.0        1500.0        1500.0  \n\n[5 rows x 7095 columns]"
     },
     "execution_count": 2,
     "metadata": {},
     "output_type": "execute_result"
    }
   ],
   "source": [
    "\n",
    "elo = pd.concat([pd.read_csv(f\"data/processed_data/elo_part{i}.csv\") for i in [1,2,3]])\n",
    "elo['date'] = elo['date'].astype(\"datetime64\")\n",
    "elo.head()"
   ]
  },
  {
   "cell_type": "code",
   "execution_count": 3,
   "metadata": {},
   "outputs": [
    {
     "data": {
      "text/plain": "1    1495.0\nName: player_1, dtype: float64"
     },
     "execution_count": 3,
     "metadata": {},
     "output_type": "execute_result"
    }
   ],
   "source": [
    "\n",
    "def lookup_elo(elo_frame, day, player_id):\n",
    "    prev_day = day - timedelta(days=1)\n",
    "    return elo_frame[elo_frame.date == day][f\"player_{player_id}\"]\n",
    "\n",
    "# Let's see if this works\n",
    "lookup_elo(elo, pd.to_datetime(\"2012-03-06\"), 1)"
   ]
  },
  {
   "cell_type": "markdown",
   "execution_count": null,
   "metadata": {},
   "outputs": [],
   "source": [
    "Let's apply this new feature to every race"
   ]
  },
  {
   "cell_type": "code",
   "execution_count": 4,
   "metadata": {},
   "outputs": [
    {
     "data": {
      "text/html": "<div>\n<style scoped>\n    .dataframe tbody tr th:only-of-type {\n        vertical-align: middle;\n    }\n\n    .dataframe tbody tr th {\n        vertical-align: top;\n    }\n\n    .dataframe thead th {\n        text-align: right;\n    }\n</style>\n<table border=\"1\" class=\"dataframe\">\n  <thead>\n    <tr style=\"text-align: right;\">\n      <th></th>\n      <th>id</th>\n      <th>race_created</th>\n      <th>race_driven</th>\n      <th>track_id</th>\n      <th>challenger</th>\n      <th>opponent</th>\n      <th>money</th>\n      <th>fuel_consumption</th>\n      <th>winner</th>\n      <th>status</th>\n      <th>forecast</th>\n      <th>weather</th>\n      <th>challenger_elo</th>\n      <th>opponent_elo</th>\n    </tr>\n  </thead>\n  <tbody>\n    <tr>\n      <th>0</th>\n      <td>1</td>\n      <td>2012-03-06</td>\n      <td>2012-03-06 00:00:00</td>\n      <td>12</td>\n      <td>5</td>\n      <td>2</td>\n      <td>30</td>\n      <td>0.63</td>\n      <td>5</td>\n      <td>finished</td>\n      <td>a:4:{s:5:\"sunny\";i:10;s:5:\"rainy\";i:70;s:8:\"th...</td>\n      <td>rainy</td>\n      <td>1    1500\nName: player_5, dtype: int64</td>\n      <td>1    1600.190991\nName: player_2, dtype: float64</td>\n    </tr>\n    <tr>\n      <th>1</th>\n      <td>2</td>\n      <td>2012-03-06</td>\n      <td>2012-03-06 00:03:00</td>\n      <td>12</td>\n      <td>5</td>\n      <td>4</td>\n      <td>30</td>\n      <td>0.63</td>\n      <td>4</td>\n      <td>finished</td>\n      <td>a:4:{s:5:\"sunny\";i:70;s:5:\"rainy\";i:15;s:8:\"th...</td>\n      <td>sunny</td>\n      <td>Series([], Name: player_5, dtype: int64)</td>\n      <td>Series([], Name: player_4, dtype: float64)</td>\n    </tr>\n    <tr>\n      <th>3</th>\n      <td>4</td>\n      <td>2012-03-06</td>\n      <td>2012-03-06 00:06:00</td>\n      <td>12</td>\n      <td>5</td>\n      <td>4</td>\n      <td>30</td>\n      <td>0.63</td>\n      <td>5</td>\n      <td>finished</td>\n      <td>a:4:{s:5:\"sunny\";i:25;s:5:\"rainy\";i:75;s:8:\"th...</td>\n      <td>sunny</td>\n      <td>Series([], Name: player_5, dtype: int64)</td>\n      <td>Series([], Name: player_4, dtype: float64)</td>\n    </tr>\n    <tr>\n      <th>5</th>\n      <td>6</td>\n      <td>2012-03-06</td>\n      <td>2012-03-06 00:17:00</td>\n      <td>12</td>\n      <td>5</td>\n      <td>10</td>\n      <td>100</td>\n      <td>0.63</td>\n      <td>5</td>\n      <td>finished</td>\n      <td>a:4:{s:5:\"sunny\";i:30;s:5:\"rainy\";i:20;s:8:\"th...</td>\n      <td>snowy</td>\n      <td>Series([], Name: player_5, dtype: int64)</td>\n      <td>Series([], Name: player_10, dtype: float64)</td>\n    </tr>\n    <tr>\n      <th>8</th>\n      <td>9</td>\n      <td>2012-03-06</td>\n      <td>2012-03-06 00:08:00</td>\n      <td>3</td>\n      <td>10</td>\n      <td>4</td>\n      <td>30</td>\n      <td>0.63</td>\n      <td>4</td>\n      <td>finished</td>\n      <td>a:4:{s:5:\"sunny\";i:45;s:5:\"rainy\";i:40;s:8:\"th...</td>\n      <td>sunny</td>\n      <td>Series([], Name: player_10, dtype: float64)</td>\n      <td>Series([], Name: player_4, dtype: float64)</td>\n    </tr>\n  </tbody>\n</table>\n</div>",
      "text/plain": "   id race_created         race_driven  track_id  challenger  opponent  money  \\\n0   1   2012-03-06 2012-03-06 00:00:00        12           5         2     30   \n1   2   2012-03-06 2012-03-06 00:03:00        12           5         4     30   \n3   4   2012-03-06 2012-03-06 00:06:00        12           5         4     30   \n5   6   2012-03-06 2012-03-06 00:17:00        12           5        10    100   \n8   9   2012-03-06 2012-03-06 00:08:00         3          10         4     30   \n\n   fuel_consumption  winner    status  \\\n0              0.63       5  finished   \n1              0.63       4  finished   \n3              0.63       5  finished   \n5              0.63       5  finished   \n8              0.63       4  finished   \n\n                                            forecast weather  \\\n0  a:4:{s:5:\"sunny\";i:10;s:5:\"rainy\";i:70;s:8:\"th...   rainy   \n1  a:4:{s:5:\"sunny\";i:70;s:5:\"rainy\";i:15;s:8:\"th...   sunny   \n3  a:4:{s:5:\"sunny\";i:25;s:5:\"rainy\";i:75;s:8:\"th...   sunny   \n5  a:4:{s:5:\"sunny\";i:30;s:5:\"rainy\";i:20;s:8:\"th...   snowy   \n8  a:4:{s:5:\"sunny\";i:45;s:5:\"rainy\";i:40;s:8:\"th...   sunny   \n\n                                challenger_elo  \\\n0       1    1500\nName: player_5, dtype: int64   \n1     Series([], Name: player_5, dtype: int64)   \n3     Series([], Name: player_5, dtype: int64)   \n5     Series([], Name: player_5, dtype: int64)   \n8  Series([], Name: player_10, dtype: float64)   \n\n                                      opponent_elo  \n0  1    1600.190991\nName: player_2, dtype: float64  \n1       Series([], Name: player_4, dtype: float64)  \n3       Series([], Name: player_4, dtype: float64)  \n5      Series([], Name: player_10, dtype: float64)  \n8       Series([], Name: player_4, dtype: float64)  "
     },
     "execution_count": 4,
     "metadata": {},
     "output_type": "execute_result"
    }
   ],
   "source": [
    "races['challenger_elo'] = [lookup_elo(elo, d, p_id) for d, p_id in zip(races.race_driven, races.challenger)]\n",
    "races['opponent_elo'] = [lookup_elo(elo, d, p_id) for d, p_id in zip(races.race_driven, races.opponent)]\n",
    "races.head()"
   ]
  },
  {
   "cell_type": "markdown",
   "execution_count": null,
   "metadata": {},
   "outputs": [],
   "source": [
    "## 3. XGBoost"
   ]
  },
  {
   "cell_type": "code",
   "execution_count": 5,
   "metadata": {},
   "outputs": [],
   "source": [
    "from xgboost.sklearn import XGBClassifier\n",
    "from sklearn.model_selection import train_test_split\n",
    "\n",
    "races['label'] = [1 if c == w else 0 for c,w in zip(races.challenger, races.opponent)]\n",
    "\n",
    "features = [\"track_id\", \"challenger_elo\", \"opponent_elo\", \"weather\", \"money\", \"fuel_consumption\"]\n",
    "\n",
    "X_train, X_test, y_train, y_test = train_test_split(races[features], races[\"label\"], test_size=0.33, random_state=42)"
   ]
  },
  {
   "cell_type": "code",
   "execution_count": 0,
   "metadata": {},
   "outputs": [],
   "source": []
  }
 ]
}